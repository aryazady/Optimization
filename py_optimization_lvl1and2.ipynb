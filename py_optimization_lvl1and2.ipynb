{
  "nbformat": 4,
  "nbformat_minor": 0,
  "metadata": {
    "colab": {
      "name": "contest.ipynb",
      "provenance": [],
      "collapsed_sections": []
    },
    "kernelspec": {
      "name": "python3",
      "display_name": "Python 3"
    },
    "language_info": {
      "name": "python"
    }
  },
  "cells": [
    {
      "cell_type": "code",
      "metadata": {
        "id": "Qrzv7vgJmswp"
      },
      "source": [
        "!pip install pulp"
      ],
      "execution_count": null,
      "outputs": []
    },
    {
      "cell_type": "markdown",
      "metadata": {
        "id": "I7SZmieZXdOx"
      },
      "source": [
        "# Round 1 and 2"
      ]
    },
    {
      "cell_type": "code",
      "metadata": {
        "id": "NXpa3Gi705jG"
      },
      "source": [
        "import numpy as np\n",
        "from pulp import *\n",
        "\n",
        "def calc_sv_zero(sv):\n",
        "  c = 0\n",
        "  for i in sv:\n",
        "    if 0 - 2e-5 <= i <= 0 + 2e-5:\n",
        "      c += 1\n",
        "  return c\n",
        "\n",
        "def calc_fd_zero(fd):\n",
        "  c = 0\n",
        "  for i in range(column):\n",
        "    if flux_d[i] == 0:\n",
        "      c += 1\n",
        "  return c\n",
        "\n",
        "with open('/content/drive/MyDrive/data/E_Coli/modelround1and2.txt', 'r') as f:\n",
        "  data = f.read()\n",
        "lines = data.splitlines()\n",
        "row = int(lines[1].split(',')[1])\n",
        "column = int(lines[1].split(',')[2])\n",
        "s = np.zeros((row, column))\n",
        "up = np.zeros(column)\n",
        "low = np.zeros(column)\n",
        "u_starting_index = 0\n",
        "l_starting_index = 0\n",
        "flux_d = np.zeros(column)\n",
        "c = np.ones(column)\n",
        "\n",
        "for l in range(3, len(lines)):\n",
        "  try:\n",
        "    i = int(float(lines[l].split(',')[0])) - 1\n",
        "    j = int(float(lines[l].split(',')[1])) - 1\n",
        "    v = float(lines[l].split(',')[2])\n",
        "    s[i][j] = v\n",
        "  except ValueError:\n",
        "    u_starting_index = l + 3\n",
        "    break\n",
        "for l in range(u_starting_index, len(lines)):\n",
        "  try:\n",
        "    i = int(float(lines[l].split(',')[0])) - 1\n",
        "    v = float(lines[l].split(',')[1])\n",
        "    up[i] = v\n",
        "  except ValueError:\n",
        "    l_starting_index = l + 3\n",
        "    break\n",
        "for l in range(l_starting_index, len(lines)):\n",
        "  i = int(float(lines[l].split(',')[0])) - 1\n",
        "  v = float(lines[l].split(',')[1])\n",
        "  low[i] = v\n",
        "\n",
        "v = [LpVariable('v' + str(i), lowBound = low[i], upBound = up[i]) for i in range(column) ]\n",
        "prob = LpProblem(\"FBA\", LpMinimize)\n",
        "c = []\n",
        "for i in range(row):\n",
        "  temp = []\n",
        "  for j in range(column):\n",
        "    if s[i][j] != 0:\n",
        "      temp.append((v[j], s[i][j]))\n",
        "  c.append(temp)\n",
        "for i in c:\n",
        "  prob += LpConstraint(LpAffineExpression(i), LpConstraintEQ, rhs=0)\n",
        "\n",
        "prob.solve()\n",
        "for i in range(column):\n",
        "  flux_d[i] = value(v[i])\n",
        "\n",
        "sv = np.dot(s, flux_d)"
      ],
      "execution_count": null,
      "outputs": []
    },
    {
      "cell_type": "code",
      "metadata": {
        "id": "vj0ygkrXYDjm"
      },
      "source": [
        "c = 0\n",
        "for i in sv:\n",
        "  if 0 - 2e-5 <= i <= 0 + 2e-5:\n",
        "    c += 1\n",
        "print('SV zero count:', c)\n",
        "print('SV not zero count:', len(sv) - c)\n",
        "c = 0\n",
        "for i in range(column):\n",
        "  if flux_d[i] == 0:\n",
        "    c += 1\n",
        "print('Flux.D. zeros:', c)\n",
        "print('Flux.D. not zeros:', column - c)\n",
        "print('columns', column)\n",
        "c = 0\n",
        "for i, e in enumerate(flux_d):\n",
        "  if low[i] - 2e-5 <= e <= up[i] + 2e-5:\n",
        "    continue\n",
        "  else:\n",
        "    c += 1\n",
        "    print(\"ERROR:\", i, low[i], '|', e, '|', up[i])\n",
        "print('Num of Errors:', c)"
      ],
      "execution_count": null,
      "outputs": []
    },
    {
      "cell_type": "code",
      "metadata": {
        "id": "ijD6eCkxR7fc"
      },
      "source": [
        "with open('/content/drive/MyDrive/data/answer/output.txt', mode='w') as f:\n",
        "  for i in flux_d:\n",
        "    f.write(str(i + 0.0) + '\\n')"
      ],
      "execution_count": null,
      "outputs": []
    }
  ]
}